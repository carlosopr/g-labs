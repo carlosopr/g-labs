{
 "cells": [
  {
   "attachments": {},
   "cell_type": "markdown",
   "metadata": {},
   "source": [
    "<strong>IIO</strong></br>Carlos Paiz</br>carlos.paiz@galielo.edu"
   ]
  },
  {
   "attachments": {},
   "cell_type": "markdown",
   "metadata": {},
   "source": [
    "# <strong>Introducción</strong>\n",
    "\n",
    "Los Sistemas de Control de Versiones son como máquinas en el tiempo. Proveen los mecanismos necesarios para la gestión de cambios en cualquier proyecto a lo largo de su desarrollo, a la vez que resuelven los principales problemas derivados del trabajo colaborativo. La gestión de cambios incluye el seguimiento sobre archivos para su comparación e incluso reversión a un estado anterior del proyecto. Por otra parte, el flujo de trabajo con git permite que un equipo pueda trabajar sobre un mismo proyecto de manera simultánea sin afectar las asignaciones individuales de cada usuario. Con estas características de seguimiento y colaboración, un sistemas de control de versiones resulta esencial para la gestión del desarrollo de un proyecto."
   ]
  },
  {
   "attachments": {},
   "cell_type": "markdown",
   "metadata": {},
   "source": [
    "# <strong>Siustemas de control de versiones</strong>\n",
    "\n",
    "En términos prácticos, un  sistema de control de versiones gestiona el registro de cada cambio que realizamos en un archivo o conjunto de archivos en orden cronológico. De esta manera, podemos volver a un estado anterior fácilmente. Podemos imaginar el CV como un sistema que toma un snapshot del cambio actual. Al final tendremos instantáneas de cada cambio y revisarlas para volver a un estado anterior. \n",
    "\n",
    "Esto resuelve muchos de los problemas a los que nos enfrentamos al trabajar en proyectos -no importando su tipo- que sufren cambios durante su desarrollo derivado de una mejora continua y refinamiento. Incluso puede darse el caso que, llegado a un punto nos veamos en la necesidad de volver a un estado anterior del proyecto, en donde los sistemas de control de versiones nos permiten reversar los cambios al estado previo.\n",
    "\n",
    "Además de gestionar las versiones del proyecto, estos sistemas resuelven los problemas derivados del trabajo de equipo sobre un mismo proyecto \n",
    "\n",
    "Por otra parte, otra de las grandes ventajas del uso de sistemas de control de versiones es el trabajo colaborativo "
   ]
  },
  {
   "attachments": {},
   "cell_type": "markdown",
   "metadata": {},
   "source": [
    "# <strong>Fundamentos de git</strong>\n"
   ]
  },
  {
   "attachments": {},
   "cell_type": "markdown",
   "metadata": {},
   "source": [
    "## <strong>Componentes</strong>\n"
   ]
  },
  {
   "attachments": {},
   "cell_type": "markdown",
   "metadata": {},
   "source": [
    "## <strong>Flujo de trabajo</strong>\n"
   ]
  },
  {
   "attachments": {},
   "cell_type": "markdown",
   "metadata": {},
   "source": [
    "# <strong>Conclusión</strong>"
   ]
  },
  {
   "cell_type": "markdown",
   "metadata": {},
   "source": []
  }
 ],
 "metadata": {
  "kernelspec": {
   "display_name": "Python 3",
   "language": "python",
   "name": "python3"
  },
  "language_info": {
   "name": "python",
   "version": "3.10.8"
  },
  "orig_nbformat": 4,
  "vscode": {
   "interpreter": {
    "hash": "b0fa6594d8f4cbf19f97940f81e996739fb7646882a419484c72d19e05852a7e"
   }
  }
 },
 "nbformat": 4,
 "nbformat_minor": 2
}
