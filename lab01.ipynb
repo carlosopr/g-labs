{
 "cells": [
  {
   "attachments": {},
   "cell_type": "markdown",
   "metadata": {},
   "source": [
    "<strong>IIO</strong></br>Carlos Paiz</br>carlos.paiz@galielo.edu"
   ]
  },
  {
   "attachments": {},
   "cell_type": "markdown",
   "metadata": {},
   "source": [
    "# <strong>Git: control de versiones y trabajo colaborativo</strong>\n",
    "\n",
    "Los Sistemas de Control de Versiones son como máquinas en el tiempo. Proveen los mecanismos necesarios para la gestión de cambios en cualquier proyecto a lo largo de su desarrollo, a la vez que resuelven los principales problemas derivados del trabajo colaborativo. La gestión de cambios incluye el seguimiento sobre archivos para su comparación e incluso reversión a un estado anterior del proyecto. Por otra parte, el flujo de trabajo con git permite que un equipo pueda trabajar sobre un mismo proyecto de manera simultánea sin afectar las asignaciones individuales de cada usuario. Con estas características de seguimiento y colaboración, un sistemas de control de versiones resulta esencial para la gestión del desarrollo de un proyecto."
   ]
  },
  {
   "attachments": {},
   "cell_type": "markdown",
   "metadata": {},
   "source": [
    "# <strong>Sistemas de control de versiones</strong>\n",
    "\n",
    "En términos prácticos, un  sistema de control de versiones gestiona el registro de cada cambio que realizamos en un archivo o conjunto de archivos en orden cronológico. De esta manera, podemos volver a un estado anterior fácilmente. Podemos imaginar el CV como un sistema que toma un snapshot del cambio actual. Al final tendremos instantáneas de cada cambio y revisarlas para volver a un estado anterior. \n",
    "\n",
    "Esto resuelve muchos de los problemas a los que nos enfrentamos al trabajar en proyectos —no importando su tipo— que sufren constantes cambios derivado de una mejora continua y refinamiento. Incluso puede darse el caso que, llegado a cierto punto, nos veamos en la necesidad de volver a un estado anterior del proyecto, ya para esto los sistemas de control de versiones ofrecen los procedimientos parar reversar los cambios a un estado previo.\n",
    "\n",
    "Si bien estos sistemas nos permiten hacer el seguimiento de cambios sobre los archivos, otra de las grandes ventajas de aplicarlo es la eficiencia que brinda para el trabajo colaborativo, permitiento a través de conceptos como *banch* y *merge*, creando líneas alternas para el desarrollo controlado de nuevas funcionalidades o características.\n",
    "\n",
    "Dicho esto trataremos las dos principales características de los sistemas de control de versiones: Git o gestión de cambios en archivos y trabajo colaborativo."
   ]
  },
  {
   "attachments": {},
   "cell_type": "markdown",
   "metadata": {},
   "source": [
    "## <strong>Git</strong>\n",
    "\n",
    "No podemos hablar de sistemas de control de versiones sin hablar de Git. Git es un sistema distribuido de control de versiones. Cuando hablamos de un sistema distribuido nos referimos a que git no necesariamente funciona en un servidor central para almacenar todas las versiones de un archivo, mas bien, cada usuario tiene una copia de la colección de todos los archivos y el historial completo de cambios sobre esos archivos en su disco duro —básicamente es un sistema de rastreo de cambios en archivos—. A estas copias las llamamos clones y contienen toda la metadata del proyecto original.\n"
   ]
  },
  {
   "attachments": {},
   "cell_type": "markdown",
   "metadata": {},
   "source": [
    "### <strong>¿Para qué git?</strong>\n",
    "\n",
    "Entre las principales ventajas que tenemos al incluir git a nuestro *workflow* se listan las siguientes:\n",
    "* Revisar cambios en los archivos a lo largo del tiempo.\n",
    "* Revertir archivos o el proyecto entero a un estado previo.\n",
    "* Ver quién modificó qué archivo y en qué momento.\n",
    "* Recuperar archivos perdidos localmente.\n",
    "* Trabajo simultáneo a través de *branches*.\n"
   ]
  },
  {
   "attachments": {},
   "cell_type": "markdown",
   "metadata": {},
   "source": [
    "### <strong>¿Quién usa git?</strong>\n",
    "\n",
    "Una de las ventajas de git es que puede ser utilizado para cualquier tipo de proyecto: ya sea que se trate de archivos de datos, archivos de diseño, el código civil de Francia o un sistema operativo entero, git es muy versátil en ese sentido, incluso el software utilizado en proyectos de la NASA puede encontrarse en github. Así que respondiendo a la pregunta, puede ser utilizado por cualquiera que quiera darle seguimiento a sus archivos de proyectos, desde estudiantes registrando su tarea, hasta científicos de datos."
   ]
  },
  {
   "attachments": {},
   "cell_type": "markdown",
   "metadata": {},
   "source": [
    "### <strong>Fundamentos</strong>\n",
    "Para entender mejor el flujo de trabajo con git, es importante introducirnos en los cuatro elementos fundamentales de este sistema.\n",
    "\n",
    "*git workflow diagram here* "
   ]
  },
  {
   "attachments": {},
   "cell_type": "markdown",
   "metadata": {},
   "source": [
    "En la imagen podemos ver los cuatro elementos fundamentes de git representados por un diagrama de secuencia, de esta manera podemos entender lo que cada uno representa. El directorio de trabajo o *working directory* es la carpeta donde se encuentran los archivos locales, en este punto esos archivos aún no han sido manejados por git y comúnmente son llamados *untracked files*. Al *staging area* pasan los archivos que formarán parte del próximo commit y es en este punto en donde se verifican los cambios. El repositorio local contiene todos los commits del proyecto y finalmente el repositorio remoto contendrá la versión final o los cambios confirmados para el proyecto.\n"
   ]
  },
  {
   "attachments": {},
   "cell_type": "markdown",
   "metadata": {},
   "source": [
    "### <strong>Flujo de trabajo</strong>\n",
    "\n",
    "Partamos del supuesto de que estamos iniciando un proyecto. Al cabo de unos minutos tenemos un archivo con el siguiente código:"
   ]
  },
  {
   "cell_type": "code",
   "execution_count": 1,
   "metadata": {},
   "outputs": [
    {
     "name": "stdout",
     "output_type": "stream",
     "text": [
      "[1, 2, 2, 3, 4, 5, 5, 6]\n"
     ]
    }
   ],
   "source": [
    "#proyecto 1\n",
    "list = [1, 2, 2, 3, 4, 5, 5, 6]\n",
    "print(list)"
   ]
  },
  {
   "attachments": {},
   "cell_type": "markdown",
   "metadata": {},
   "source": [
    "Inicialmente tenemos el archivo en una carpeta de nuestra computadora. Ahora iniciamos a trabajar con git, para esto hacemos uso del comando `git init`. Una vez iniciamos el repositorio local, debemos conectar con nuestro repositorio remoto. Esto lo hacemos a través del comando `git remote add origin [repository url]`. Ahora estamos listos para trabajar con git. \n",
    "\n",
    "En este punto nuestro archivo aún no ha sido rastreado, así que para que esto suceda, vamos a hacer uso del comando `git add -A`, de esta forma le indicamos a git cuáles son los archivos que luego confirmaremos para que se les de seguimiento. Ahora, una copia de nuestro archivo pasa al área de stage, en donde se identificarán los cambios que ha tenido el archivo. Hecho esto vamos a hacer un commit. Este paso extra nos da el control sobre qué archivos queremos realmente confirmar para que pasen al repositorio local. Para ello utilizamos el comando `git commit -m “commit inicial”`.  Hecho el commit, estamos listos para que nuestro archivo se publiquen en el repositorio remoto, así que usamos el comando `git push -u origin main`. Y listo, nuestro trabajo estará ahora disponible en el repositorio remoto.\n",
    "\n",
    "Ahora cada vez que hagamos un cambio en este archivo, seguiremos los mismos pasos para que el repositorio remoto refleje los cambios que confirmemos en nuestro repositorio local.\n",
    "\n",
    "Continuando con nuestro proyecto hipotético, haremos una modificación a nuestros archivo."
   ]
  },
  {
   "cell_type": "code",
   "execution_count": 2,
   "metadata": {},
   "outputs": [
    {
     "name": "stdout",
     "output_type": "stream",
     "text": [
      "[1, 2, 2, 3, 4, 5, 5, 6, 7]\n"
     ]
    }
   ],
   "source": [
    "#proyecto 1\n",
    "list = [1, 2, 2, 3, 4, 5, 5, 6]\n",
    "list.append(7)\n",
    "print(list)"
   ]
  },
  {
   "attachments": {},
   "cell_type": "markdown",
   "metadata": {},
   "source": [
    "Nuevamente iniciamos el proceso aplicando los comandos `git add`, `git commit`, `git push`. \n",
    "\n",
    "Si queremos mantener actualizado nuestro directorio local, usamos el comando `git fech`, y para integrar los cambios a nuestro directorio de trabajo usamos `git merge`.\n",
    "\n",
    "También existe el comando `git pull`, que es básicamente la combinación de los dos comandos anteriores, así que podemos usarlo en este punto.\n",
    "\n",
    "Recapitulando, definimos los comandos como sigue:\n",
    "\n",
    "* `git add` es un comando para agregar los archivos del directorio de trabajo al área de stage y así hacerle saber a git cuáles archivos con cambios serán confirmados.\n",
    "* `git commit` permitirá que los archivos que están en el área de stage pasen al repositorio local.\n",
    "* `git push` subirá los cambios confirmados en el repositorio local al repositorio remoto, de esta manera estarán disponibles para cualquiera que tenga acceso a dicho repositorio remoto.\n",
    "* `git fetch` permite descargar los últimos cambios del repositorio remoto al repositorio local, así nuestro repositorio local estará actualizado.\n",
    "* `git merge` integrará los cambios actualizados del repositorio local al directorio de trabajo.\n",
    "* `git pull` es una forma más sencilla de tener nuestro directorio de trabajo con los últimos cambios que se encuentren en el repositorio remoto y equivale a hacer un `git fetch` y `git merge`."
   ]
  },
  {
   "attachments": {},
   "cell_type": "markdown",
   "metadata": {},
   "source": [
    "# <strong>Conclusión</strong>"
   ]
  },
  {
   "cell_type": "markdown",
   "metadata": {},
   "source": []
  }
 ],
 "metadata": {
  "kernelspec": {
   "display_name": "Python 3",
   "language": "python",
   "name": "python3"
  },
  "language_info": {
   "codemirror_mode": {
    "name": "ipython",
    "version": 3
   },
   "file_extension": ".py",
   "mimetype": "text/x-python",
   "name": "python",
   "nbconvert_exporter": "python",
   "pygments_lexer": "ipython3",
   "version": "3.10.8"
  },
  "orig_nbformat": 4,
  "vscode": {
   "interpreter": {
    "hash": "b0fa6594d8f4cbf19f97940f81e996739fb7646882a419484c72d19e05852a7e"
   }
  }
 },
 "nbformat": 4,
 "nbformat_minor": 2
}
