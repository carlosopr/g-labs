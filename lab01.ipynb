{
 "cells": [
  {
   "attachments": {},
   "cell_type": "markdown",
   "metadata": {},
   "source": [
    "<strong>IIO</strong></br>Carlos Paiz</br>carlos.paiz@galielo.edu"
   ]
  },
  {
   "attachments": {},
   "cell_type": "markdown",
   "metadata": {},
   "source": [
    "# <strong>Introduction</strong>\n",
    "Git is a widely used version control system that provides a flexible and efficient way to manage changes to software projects. It tracks changes to files and directories over time, enabling users to view, compare, and revert to previous versions of the project. The Git workflow supports collaboration through branching and merging, making it possible for multiple users to work on different parts of a project simultaneously without interfering with each other's work. With its robust history tracking and collaboration support, Git is a crucial tool for any team working on a project, regardless of size or complexity.\n",
    "\n",
    "# <strong>Version Control Systems</strong>\n",
    "\n",
    "# <strong>Git fundamentals</strong>\n",
    "\n",
    "## <strong>Components</strong>\n",
    "\n",
    "## <strong>Workflow</strong>"
   ]
  },
  {
   "cell_type": "markdown",
   "metadata": {},
   "source": []
  }
 ],
 "metadata": {
  "language_info": {
   "name": "python"
  },
  "orig_nbformat": 4
 },
 "nbformat": 4,
 "nbformat_minor": 2
}
