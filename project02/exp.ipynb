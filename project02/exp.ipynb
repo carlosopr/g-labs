{
 "cells": [
  {
   "cell_type": "code",
   "execution_count": 15,
   "metadata": {},
   "outputs": [],
   "source": [
    "import pandas as pd\n",
    "import numpy as np\n",
    "import boto3\n",
    "import psycopg2\n",
    "import configparser"
   ]
  },
  {
   "cell_type": "code",
   "execution_count": 16,
   "metadata": {},
   "outputs": [
    {
     "data": {
      "text/plain": [
       "['config.cfg']"
      ]
     },
     "execution_count": 16,
     "metadata": {},
     "output_type": "execute_result"
    }
   ],
   "source": [
    "config = configparser.ConfigParser()\n",
    "config.read('config.cfg')"
   ]
  },
  {
   "cell_type": "code",
   "execution_count": 17,
   "metadata": {},
   "outputs": [
    {
     "name": "stdout",
     "output_type": "stream",
     "text": [
      "rentals-db.c0tctn6c61lo.us-east-1.rds.amazonaws.com\n"
     ]
    }
   ],
   "source": [
    "RDS_HOST = 'rentals-db.c0tctn6c61lo.us-east-1.rds.amazonaws.com'\n",
    "\n",
    "print(RDS_HOST)"
   ]
  },
  {
   "cell_type": "code",
   "execution_count": 20,
   "metadata": {},
   "outputs": [],
   "source": [
    "pg_driver = f\"\"\"postgresql://{config.get('RDS', 'DB_USER')}:{config.get('RDS', 'DB_PASSWORD')}@{RDS_HOST}:{config.get('RDS', 'DB_PORT')}/{config.get('RDS', 'DB_NAME')}\"\"\" "
   ]
  },
  {
   "cell_type": "code",
   "execution_count": 21,
   "metadata": {},
   "outputs": [
    {
     "data": {
      "text/html": [
       "<div>\n",
       "<style scoped>\n",
       "    .dataframe tbody tr th:only-of-type {\n",
       "        vertical-align: middle;\n",
       "    }\n",
       "\n",
       "    .dataframe tbody tr th {\n",
       "        vertical-align: top;\n",
       "    }\n",
       "\n",
       "    .dataframe thead th {\n",
       "        text-align: right;\n",
       "    }\n",
       "</style>\n",
       "<table border=\"1\" class=\"dataframe\">\n",
       "  <thead>\n",
       "    <tr style=\"text-align: right;\">\n",
       "      <th></th>\n",
       "      <th>id</th>\n",
       "      <th>first_name</th>\n",
       "      <th>last_name</th>\n",
       "      <th>dob</th>\n",
       "      <th>driver_license_number</th>\n",
       "      <th>email</th>\n",
       "      <th>phone</th>\n",
       "    </tr>\n",
       "  </thead>\n",
       "  <tbody>\n",
       "    <tr>\n",
       "      <th>0</th>\n",
       "      <td>1</td>\n",
       "      <td>Kelby</td>\n",
       "      <td>Matterdace</td>\n",
       "      <td>1974-05-22</td>\n",
       "      <td>V435899293</td>\n",
       "      <td>kmatterdace0@oracle.com</td>\n",
       "      <td>181-441-7828</td>\n",
       "    </tr>\n",
       "    <tr>\n",
       "      <th>1</th>\n",
       "      <td>2</td>\n",
       "      <td>Orion</td>\n",
       "      <td>De Hooge</td>\n",
       "      <td>1992-08-07</td>\n",
       "      <td>Z140530509</td>\n",
       "      <td>odehooge1@quantcast.com</td>\n",
       "      <td>948-294-5458</td>\n",
       "    </tr>\n",
       "    <tr>\n",
       "      <th>2</th>\n",
       "      <td>3</td>\n",
       "      <td>Sheena</td>\n",
       "      <td>Macias</td>\n",
       "      <td>1981-03-10</td>\n",
       "      <td>W045654959</td>\n",
       "      <td>smacias3@amazonaws.com</td>\n",
       "      <td></td>\n",
       "    </tr>\n",
       "    <tr>\n",
       "      <th>3</th>\n",
       "      <td>4</td>\n",
       "      <td>Irving</td>\n",
       "      <td>Packe</td>\n",
       "      <td>1994-12-19</td>\n",
       "      <td>O232196823</td>\n",
       "      <td>ipacke4@cbc.ca</td>\n",
       "      <td>157-815-8064</td>\n",
       "    </tr>\n",
       "    <tr>\n",
       "      <th>4</th>\n",
       "      <td>5</td>\n",
       "      <td>Kass</td>\n",
       "      <td>Humphris</td>\n",
       "      <td>1993-12-16</td>\n",
       "      <td>G055017319</td>\n",
       "      <td>khumphris5@xrea.com</td>\n",
       "      <td>510-624-4189</td>\n",
       "    </tr>\n",
       "  </tbody>\n",
       "</table>\n",
       "</div>"
      ],
      "text/plain": [
       "   id first_name   last_name         dob driver_license_number  \\\n",
       "0   1      Kelby  Matterdace  1974-05-22            V435899293   \n",
       "1   2      Orion    De Hooge  1992-08-07            Z140530509   \n",
       "2   3     Sheena      Macias  1981-03-10            W045654959   \n",
       "3   4     Irving       Packe  1994-12-19            O232196823   \n",
       "4   5       Kass    Humphris  1993-12-16            G055017319   \n",
       "\n",
       "                     email         phone  \n",
       "0  kmatterdace0@oracle.com  181-441-7828  \n",
       "1  odehooge1@quantcast.com  948-294-5458  \n",
       "2   smacias3@amazonaws.com                \n",
       "3           ipacke4@cbc.ca  157-815-8064  \n",
       "4      khumphris5@xrea.com  510-624-4189  "
      ]
     },
     "execution_count": 21,
     "metadata": {},
     "output_type": "execute_result"
    }
   ],
   "source": [
    "query = 'SELECT * FROM customer;'\n",
    "df_clientes = pd.read_sql(query, pg_driver)\n",
    "df_clientes.head()"
   ]
  },
  {
   "cell_type": "code",
   "execution_count": null,
   "metadata": {},
   "outputs": [],
   "source": []
  }
 ],
 "metadata": {
  "kernelspec": {
   "display_name": "base",
   "language": "python",
   "name": "python3"
  },
  "language_info": {
   "codemirror_mode": {
    "name": "ipython",
    "version": 3
   },
   "file_extension": ".py",
   "mimetype": "text/x-python",
   "name": "python",
   "nbconvert_exporter": "python",
   "pygments_lexer": "ipython3",
   "version": "3.9.13"
  },
  "orig_nbformat": 4
 },
 "nbformat": 4,
 "nbformat_minor": 2
}
